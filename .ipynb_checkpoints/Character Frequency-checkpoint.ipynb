{
 "cells": [
  {
   "cell_type": "markdown",
   "metadata": {},
   "source": [
    "## Books\n",
    " Animal Farm http://gutenberg.net.au/ebooks01/0100011.txt\n",
    " The Great Gatsby http://gutenberg.net.au/ebooks02/0200041.txt\n",
    " Oliver Twist http://www.gutenberg.org/cache/epub/730/pg730.txt\n",
    " Gone With The Wind http://gutenberg.net.au/ebooks02/0200161.txt"
   ]
  },
  {
   "cell_type": "code",
   "execution_count": 1,
   "metadata": {},
   "outputs": [],
   "source": [
    "import matplotlib.pyplot as plt\n",
    "import numpy as np\n",
    "\n",
    "from requests import get\n",
    "import re"
   ]
  },
  {
   "cell_type": "code",
   "execution_count": 2,
   "metadata": {},
   "outputs": [],
   "source": [
    "# The lowercase alphabet\n",
    "characters = [chr(c) for c in range(ord('a'), ord('z') + 1)]"
   ]
  },
  {
   "cell_type": "code",
   "execution_count": 3,
   "metadata": {},
   "outputs": [],
   "source": [
    "# get frequency of characters in string\n",
    "gf = lambda a: [a.lower().count(char) for char in characters]\n",
    "\n",
    "# calculate percent frequency of list (will sum to 100)\n",
    "p = lambda f: list(map(lambda x: x/sum(f) * 100, f))\n",
    "\n",
    "# function to get raw text from a resource and return the percentage frequency of characters\n",
    "def get_percent_frequency(url):\n",
    "    raw = get(url)\n",
    "    print('Response:', raw.status_code)\n",
    "    \n",
    "    # Attempt to find the title\n",
    "    capt = re.findall(r'(?i)title: (.*)', raw.text)\n",
    "    title = capt[0].strip() if capt else 'Title Not Found'\n",
    "    \n",
    "    print(title, f'({len(raw.text)} chars)')\n",
    "    \n",
    "    return (p(gf(raw.text)), title)"
   ]
  },
  {
   "cell_type": "code",
   "execution_count": 4,
   "metadata": {
    "scrolled": true
   },
   "outputs": [
    {
     "name": "stdout",
     "output_type": "stream",
     "text": [
      "Response: 200\n",
      "Animal Farm (172618 chars)\n"
     ]
    }
   ],
   "source": [
    "# EXAMPLE\n",
    "# get percent character freq. for animal farm...\n",
    "animal_farm, title = get_percent_frequency('http://gutenberg.net.au/ebooks01/0100011.txt')"
   ]
  },
  {
   "cell_type": "code",
   "execution_count": 5,
   "metadata": {},
   "outputs": [
    {
     "data": {
      "image/png": "[encoded data removed]",
      "text/plain": [
       "<Figure size 1080x360 with 1 Axes>"
      ]
     },
     "metadata": {
      "needs_background": "light"
     },
     "output_type": "display_data"
    }
   ],
   "source": [
    "# plot raw data to bar chart\n",
    "fig, (ax1) = plt.subplots(1,1, figsize=(15,5))\n",
    "ax1.bar(characters, animal_farm)\n",
    "ax1.set_title('Character Frequency in Animal Farm')\n",
    "ax1.set_ylabel('%')\n",
    "\n",
    "\n",
    "plt.show()"
   ]
  },
  {
   "cell_type": "code",
   "execution_count": 6,
   "metadata": {
    "scrolled": true
   },
   "outputs": [
    {
     "name": "stdout",
     "output_type": "stream",
     "text": [
      "Response: 200\n",
      "The Great Gatsby (276083 chars)\n",
      "Response: 200\n",
      "Oliver Twist (936251 chars)\n",
      "Response: 200\n",
      "Animal Farm (172618 chars)\n",
      "Response: 200\n",
      "Gone With The Wind (2390242 chars)\n"
     ]
    }
   ],
   "source": [
    "# Iterable test\n",
    "\n",
    "# Add urls to the urls list to extend the chart\n",
    "\n",
    "urls = [\n",
    "    'http://gutenberg.net.au/ebooks02/0200041.txt', \n",
    "    'http://www.gutenberg.org/cache/epub/730/pg730.txt', \n",
    "    'http://gutenberg.net.au/ebooks01/0100011.txt',\n",
    "    'http://gutenberg.net.au/ebooks02/0200161.txt',\n",
    "]\n",
    "\n",
    "freqs, titles = [], []\n",
    "\n",
    "for url in urls:\n",
    "    freq, title = get_percent_frequency(url)\n",
    "    freqs.append(freq)\n",
    "    titles.append(title)"
   ]
  },
  {
   "cell_type": "code",
   "execution_count": 7,
   "metadata": {
    "scrolled": true
   },
   "outputs": [
    {
     "name": "stdout",
     "output_type": "stream",
     "text": [
      "0.125\n"
     ]
    },
    {
     "data": {
      "image/png": "[encoded data removed]",
      "text/plain": [
       "<Figure size 1080x360 with 1 Axes>"
      ]
     },
     "metadata": {
      "needs_background": "light"
     },
     "output_type": "display_data"
    }
   ],
   "source": [
    "# plot multiple freqs.\n",
    "fig, (ax) = plt.subplots(1, 1, figsize=(15, 5))\n",
    "\n",
    "ind = np.arange(len(characters))\n",
    "width = 0.5 / len(freqs)\n",
    "print(width)\n",
    "\n",
    "for freq, i in zip(freqs, range(len(freqs))):\n",
    "    ax.bar(ind + (i * width), freq, width)\n",
    "\n",
    "ax.set_title('Character Frequency in Books')\n",
    "ax.set_xticks(ind + i * width / 2)\n",
    "ax.set_xticklabels(characters)\n",
    "ax.set_ylabel('Frequency %')\n",
    "\n",
    "ax.legend(titles)\n",
    "\n",
    "plt.show()"
   ]
  },
  {
   "cell_type": "code",
   "execution_count": null,
   "metadata": {},
   "outputs": [],
   "source": []
  }
 ],
 "metadata": {
  "kernelspec": {
   "display_name": "Python 3",
   "language": "python",
   "name": "python3"
  },
  "language_info": {
   "codemirror_mode": {
    "name": "ipython",
    "version": 3
   },
   "file_extension": ".py",
   "mimetype": "text/x-python",
   "name": "python",
   "nbconvert_exporter": "python",
   "pygments_lexer": "ipython3",
   "version": "3.8.2"
  }
 },
 "nbformat": 4,
 "nbformat_minor": 4
}
